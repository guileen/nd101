{
 "cells": [
  {
   "cell_type": "markdown",
   "metadata": {},
   "source": [
    "# 神经网络入门\n",
    "\n",
    "![](https://s3.cn-north-1.amazonaws.com.cn/u-img/07e338ce-41fa-4b2a-b1b9-5997261c3f58)\n",
    "\n",
    "这些独立的节点被称作感知器 或者神经元。它们是构成神经网络的基本单元。\n",
    "\n",
    "Weights（权值）\n",
    "\n",
    "当输入给到节点，激活函数可以决定节点的输出。因为它决定了实际输出，我们也把层的输出，称作“激活”。\n",
    "\n",
    "是单位阶跃函数（Heaviside step function）。如果线性组合小于0，函数返回0，如果线性组合等于或者大于0，函数返回1\n",
    "\n",
    "偏置 bias \n",
    "\n",
    "## 逻辑操作激活函数\n",
    "\n",
    "![](https://s3.cn-north-1.amazonaws.com.cn/u-img/0aa1e0d3-8440-41b7-b327-925472eaf72e)\n",
    "\n",
    "通过调整w,b 可以使用 w*X + b > 0 实现 AND OR NOT 操作\n",
    "* AND w1 = 1, w2 = 1, b = -2\n",
    "* OR  w1 = 1, w2 = 1, b = -2.1\n",
    "* NOT  w = -1，bias = 0.9\n",
    "\n",
    "![](https://s3.cn-north-1.amazonaws.com.cn/u-img/4fb8d10d-5f1b-4557-85ad-6421d5eafafe)\n",
    "* XOR 用上图构建 A NOT; B AND; C OR\n",
    "\n",
    "## 其他激活函数\n",
    "\n",
    "其它常见激活函数还有对数几率（又称作 sigmoid），tanh 和 softmax。这节课中我们主要使用 sigmoid 函数:\n",
    "\n",
    "$$ \\sigma(x) = \\frac{1}{1+e^{-x}} $$"
   ]
  },
  {
   "cell_type": "markdown",
   "metadata": {},
   "source": [
    "\n",
    "### 最简单的神经网络\n",
    "\n",
    "![](https://s3.cn-north-1.amazonaws.com.cn/u-img/e429472f-a8bf-411a-87e5-6abf1223a725)"
   ]
  },
  {
   "cell_type": "code",
   "execution_count": 2,
   "metadata": {
    "collapsed": false
   },
   "outputs": [
    {
     "data": {
      "text/plain": [
       "0.43290709503454572"
      ]
     },
     "execution_count": 2,
     "metadata": {},
     "output_type": "execute_result"
    }
   ],
   "source": [
    "import numpy as np\n",
    "\n",
    "def sigmoid(x):\n",
    "    return 1.0 / (1.0 + np.exp(-x))\n",
    "\n",
    "inputs = np.array([0.7, -0.3])\n",
    "weights = np.array([0.1, 0.8])\n",
    "bias = -0.1\n",
    "\n",
    "output = sigmoid(np.dot(inputs, weights) + bias)\n",
    "\n",
    "output"
   ]
  },
  {
   "cell_type": "markdown",
   "metadata": {},
   "source": [
    "## 梯度下降法\n",
    "\n",
    "[梯度下降法的优化](http://sebastianruder.com/optimizing-gradient-descent/index.html#momentum)\n",
    "\n",
    "E 错误，使E最小化，m为样本数，$\\hat y$ 为预测结果\n",
    "\n",
    "$$\\mathbf{ E = \\frac{1}{2m}\\sum_\\mu(y^\\mu-\\hat y^\\mu)^2 }$$\n",
    "\n",
    "\n",
    "基本思想：\n",
    "\n",
    "$$ W_i = W_i + \\Delta W_i $$\n",
    "$$ \\Delta W_i = - \\eta \\frac{\\partial E}{\\partial W_i} $$\n",
    "\n",
    "得出(过程详见下文):\n",
    "$$ \\Delta w_i = \\mu(y - \\hat y)f'(h)x_i $$\n",
    "\n",
    "\n",
    "### 定义“误差项”（ERROR TERM）$\\delta$\n",
    "\n",
    "\\begin{align}\n",
    "& \\LARGE{\\delta = (y - \\hat y)f'(h) ＝ (y - \\hat y)f'(\\sum_i w_i x_i)} \\\\\n",
    "& \\LARGE{w_i = w_i + \\eta \\delta x_i}\n",
    "\\end{align}"
   ]
  },
  {
   "cell_type": "markdown",
   "metadata": {},
   "source": [
    "多条数据时\n",
    "\n",
    "* 训练每一条数据\n",
    "    * 计算输出 $ \\hat y = f(\\sum_i w_i x_i) $\n",
    "    * 计算 Error term, $\\delta = ( y - \\hat y)f'(\\sum_i w_i x_i) $\n",
    "    * 计算 $\\Delta w_i = \\Delta w_i + \\delta x_i $\n",
    "\n",
    "* 更新 $ w_i = w_i + \\eta \\Delta w_i / m $。 $\\eta$ 是学习率 $m$ 是数据条数。对权重步长做了平均化，防止数据起伏\n",
    "* 重复 $e$ 代 (epoch)\n"
   ]
  },
  {
   "cell_type": "markdown",
   "metadata": {},
   "source": [
    "\n",
    "### 推导过程：\n",
    "\n",
    "\\begin{align}\n",
    "\\frac{\\partial E}{\\partial W_i} & = \\frac{\\partial}{\\partial w_i} \\frac{1}{2} (y-\\hat y)^2 \\\\\n",
    "& = (y - \\hat y)\\frac{\\partial}{\\partial w_i}(y - \\hat y) \\\\\n",
    "& = (y - \\hat y)\\frac{\\partial(y - \\hat y)}{\\partial \\hat y}\\frac{\\partial \\hat y}{\\partial w_i} \\\\\n",
    "& = -(y-\\hat y)\\frac{\\partial \\hat y}{\\partial w_i}\n",
    "\\end{align}\n",
    "\n",
    "已知 $ \\hat y = f(h)$ 其中 $f$ 是激活函数，$h$ 是线性组合函数。$h= \\sum_{i=0}w_i x_i $\n",
    "\n",
    "\\begin{align}\n",
    "\\frac{\\partial E}{\\partial w_i} & = - (y-\\hat y)\\frac{\\partial \\hat y}{\\partial w_i} \\\\\n",
    "& = - (y - \\hat y)\\frac{\\partial \\hat y}{\\partial h} \\frac{\\partial h}{\\partial w_i} \\\\\n",
    "& = - (y - \\hat y)f'(h)\\frac{\\partial}{\\partial w_i}\\sum w_i x_i\n",
    "\\end{align}\n",
    "\n",
    "而：\n",
    "\\begin{align}\n",
    "& \\frac{\\partial}{\\partial w_i} \\sum_i w_i x_i \\\\\n",
    "= & \\frac{\\partial}{\\partial w_1}[w_1 x_1 + w_2 x_2 + ... + w_n x_n] \\\\\n",
    "= & x_1 + 0 + 0 ...\n",
    "\\end{align}\n",
    "\n",
    "得出：\n",
    "$$ \\frac{\\partial}{\\partial w_i}\\sum_i w_i x_i = x_i $$\n",
    "\n",
    "所以：\n",
    "\n",
    "\\begin{align}\n",
    "\\frac{\\partial E}{\\partial w_i} & = -(y-\\hat y)f'(h)x_i \\\\\n",
    "\\Delta w_i & = \\mu(y - \\hat y)f'(h)x_i\n",
    "\\end{align}\n",
    "\n"
   ]
  },
  {
   "cell_type": "markdown",
   "metadata": {},
   "source": [
    "## sigmoid 函数的导数\n",
    "\n",
    "$$ \\sigma'(x) = \\sigma(x)\\cdot(1-\\sigma(x)) $$\n",
    "\n",
    "推导过程：\n",
    "\n",
    "\\begin{align}\n",
    "\\sigma'(x) & = \\frac{d}{dx}\\frac{1}{(1+e^{-x})} \\\\\n",
    "& = \\frac{d}{dx}(1+e^{-x})^{-1} \\\\\n",
    "& = -(1+e^{-x})^{-2} (-e^{-x}) \\\\\n",
    "& = \\frac{e^{-x}}{1+e^{-x}}^2 \\\\\n",
    "& = \\frac{1}{1+e^{-x}}\\cdot\\frac{e^{-x}}{1+e^{-x}} \\\\\n",
    "& = \\frac{1}{1+e^{-x}}\\cdot\\frac{(1+e^{-x})-1}{1+e^{-x}} \\\\\n",
    "& = \\frac{1}{1+e^{-x}}\\cdot(1-\\frac{1}{1+e^{-x}}) \\\\\n",
    "& = \\sigma(x)\\cdot(1-\\sigma(x))\n",
    "\\end{align}\n"
   ]
  },
  {
   "cell_type": "code",
   "execution_count": 8,
   "metadata": {
    "collapsed": true
   },
   "outputs": [],
   "source": [
    "## y-hat = sigmoid(w.x) 梯度下降计算过程\n",
    "\n",
    "def sigmoid(x):\n",
    "    return 1/(1+np.exp(-x))\n",
    "\n",
    "# Derivative of the sigmoid function\n",
    "# 激活函数的导数\n",
    "def sigmoid_prime(x):\n",
    "    return sigmoid(x) * (1 - sigmoid(x))\n",
    "\n",
    "x = np.array([0.1, 0.3])\n",
    "y = 0.2\n",
    "weights = np.array([-0.8, 0.5])\n",
    "learnrate = 0.5\n",
    "\n",
    "# the linear combination performed (h in f(h) and f'(h))\n",
    "h = np.dot(x, weights)\n",
    "\n",
    "# y-hat\n",
    "nn_output = sigmoid(h)\n",
    "\n",
    "# output error (y - y-hat)\n",
    "error = y - nn_output\n",
    "\n",
    "# output gradient (f'(h))\n",
    "output_grad = sigmoid_prime(h)\n",
    "\n",
    "# error term (lowercase delta)\n",
    "error_term = error * output_grad\n",
    "\n",
    "# Gradient descent step \n",
    "del_w = learnrate * error_term * x"
   ]
  },
  {
   "cell_type": "markdown",
   "metadata": {},
   "source": [
    "---\n",
    "## 实现梯度下降\n",
    "\n",
    "我们拿一个研究生学院录取数据来用梯度下降训练一个网络。数据可以在[这里](http://www.ats.ucla.edu/stat/data/binary.csv)找到。数据有三个输入特征，*GRE分数，GPA，和本科院校排名 rank（从1到4）*。数字1代表最好，数字4代表最差。我们的目标是基于这些特征来预测一个学生能否被研究生院录取。\n",
    "\n",
    "### 数据清理\n",
    "\n",
    "#### Dummy Variable\n",
    "\n",
    "rank 是类别特征，数字并不包含任何相对的值。使用 dummy variables 编码，变成4列，对应列为1，其他列为0.\n",
    "\n",
    "![](https://s3.cn-north-1.amazonaws.com.cn/u-img/0c580bc2-b0a9-4952-bfd0-f2ce6093efe8)"
   ]
  }
 ],
 "metadata": {
  "kernelspec": {
   "display_name": "Python [default]",
   "language": "python",
   "name": "python2"
  },
  "language_info": {
   "codemirror_mode": {
    "name": "ipython",
    "version": 2
   },
   "file_extension": ".py",
   "mimetype": "text/x-python",
   "name": "python",
   "nbconvert_exporter": "python",
   "pygments_lexer": "ipython2",
   "version": "2.7.12"
  }
 },
 "nbformat": 4,
 "nbformat_minor": 1
}
