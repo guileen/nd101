{
 "cells": [
  {
   "cell_type": "markdown",
   "metadata": {},
   "source": [
    "# 神经网络回顾\n",
    "\n",
    "![](https://s3.cn-north-1.amazonaws.com.cn/u-img/07e338ce-41fa-4b2a-b1b9-5997261c3f58)\n",
    "\n",
    "这些独立的节点被称作感知器 或者神经元。它们是构成神经网络的基本单元。\n",
    "\n",
    "Weights（权值）\n",
    "\n",
    "当输入给到节点，激活函数可以决定节点的输出。因为它决定了实际输出，我们也把层的输出，称作“激活”。\n",
    "\n",
    "是单位阶跃函数（Heaviside step function）。如果线性组合小于0，函数返回0，如果线性组合等于或者大于0，函数返回1\n",
    "\n",
    "偏置 bias \n",
    "\n",
    "## 逻辑操作激活函数\n",
    "\n",
    "![](https://s3.cn-north-1.amazonaws.com.cn/u-img/0aa1e0d3-8440-41b7-b327-925472eaf72e)\n",
    "\n",
    "通过调整w,b 可以使用 w*X + b > 0 实现 AND OR NOT 操作\n",
    "* AND w1 = 1, w2 = 1, b = -2\n",
    "* OR  w1 = 1, w2 = 1, b = -2.1\n",
    "* NOT  w = -1，bias = 0.9\n",
    "\n",
    "![](https://s3.cn-north-1.amazonaws.com.cn/u-img/4fb8d10d-5f1b-4557-85ad-6421d5eafafe)\n",
    "* XOR 用上图构建 A NOT; B AND; C OR\n",
    "\n",
    "## 其他激活函数\n",
    "\n",
    "其它常见激活函数还有对数几率（又称作 sigmoid），tanh 和 softmax。这节课中我们主要使用 sigmoid 函数\n",
    "\n",
    "sigmoid(x) = 1 / (1 + e ^ (-x))\n",
    "\n",
    "### 最简单的神经网络\n",
    "\n",
    "![](https://s3.cn-north-1.amazonaws.com.cn/u-img/e429472f-a8bf-411a-87e5-6abf1223a725)"
   ]
  },
  {
   "cell_type": "code",
   "execution_count": 2,
   "metadata": {
    "collapsed": false
   },
   "outputs": [
    {
     "data": {
      "text/plain": [
       "0.43290709503454572"
      ]
     },
     "execution_count": 2,
     "metadata": {},
     "output_type": "execute_result"
    }
   ],
   "source": [
    "import numpy as np\n",
    "\n",
    "def sigmoid(x):\n",
    "    return 1.0 / (1.0 + np.exp(-x))\n",
    "\n",
    "inputs = np.array([0.7, -0.3])\n",
    "weights = np.array([0.1, 0.8])\n",
    "bias = -0.1\n",
    "\n",
    "output = sigmoid(np.dot(inputs, weights) + bias)\n",
    "\n",
    "output"
   ]
  },
  {
   "cell_type": "markdown",
   "metadata": {},
   "source": [
    "## 梯度下降法\n",
    "\n",
    "[梯度下降法的优化](http://sebastianruder.com/optimizing-gradient-descent/index.html#momentum)\n",
    "\n",
    "E 错误，使E最小化\n",
    "\n",
    "$$\\mathbf{ E = \\frac{1}{2}\\sum(y^\\mu-\\hat y^\\mu)^2 }$$\n",
    "\n",
    "\n",
    "算法：\n",
    "\n",
    "$$ W_i = W_i + \\Delta W_i $$\n",
    "$$ \\Delta W_i = - \\mu\\frac{\\partial E}{\\partial W_i} $$\n",
    "\n",
    "导数计算：\n",
    "\n",
    "\\begin{align}\n",
    "\\frac{\\partial E}{\\partial W_i} & = \\frac{\\partial}{\\partial w_i} \\frac{1}{2} (y-\\hat y)^2 \\\\\n",
    "& = (y - \\hat y)\\frac{\\partial}{\\partial w_i}(y - \\hat y) \\\\\n",
    "& = (y - \\hat y)\\frac{\\partial(y - \\hat y)}{\\partial \\hat y}\\frac{\\partial \\hat y}{\\partial w_i} \\\\\n",
    "& = -(y-\\hat y)\\frac{\\partial \\hat y}{\\partial w_i}\n",
    "\\end{align}\n",
    "\n",
    "其中：\n",
    "\n",
    "$$ \\hat y = f(h) \\quad \\mathbf{where} \\quad h= \\sum_{i=0}w_i x_i $$\n",
    "\n",
    "\\begin{align}\n",
    "\\frac{\\partial E}{\\partial w_i} & = - (y-\\hat y)\\frac{\\partial \\hat y}{\\partial w_i} \\\\\n",
    "& = - (y - \\hat y)\\frac{\\partial \\hat y}{\\partial h} \\frac{\\partial h}{\\partial w_i} \\\\\n",
    "& = - (y - \\hat y)f'(h)\\frac{\\partial}{\\partial w_i}\\sum w_i x_i\n",
    "\\end{align}\n",
    "\n",
    "而：\n",
    "\\begin{align}\n",
    "& \\frac{\\partial}{\\partial w_i} \\sum_i w_i x_i \\\\\n",
    "= & \\frac{\\partial}{\\partial w_1}[w_1 x_1 + w_2 x_2 + ... + w_n x_n] \\\\\n",
    "= & x_1 + 0 + 0 ...\n",
    "\\end{align}\n",
    "\n",
    "得出：\n",
    "$$ \\frac{\\partial}{\\partial w_i}\\sum_i w_i x_i = x_i $$\n",
    "\n",
    "所以：\n",
    "\n",
    "\\begin{align}\n",
    "\\frac{\\partial E}{\\partial w_i} & = -(y-\\hat y)f'(h)x_i \\\\\n",
    "\\Delta w_i & = \\mu(y - \\hat y)f'(h)x_i\n",
    "\\end{align}\n",
    "\n"
   ]
  },
  {
   "cell_type": "markdown",
   "metadata": {},
   "source": [
    "为了方便以后的计算，定义“误差项”（ERROR TERM）$\\delta$\n",
    "\n",
    "$$ \\LARGE{\\delta = (y - \\hat y)f'(h)} $$\n",
    "$$ \\LARGE{w_i = w_i + \\mu \\delta x_i} $$"
   ]
  },
  {
   "cell_type": "markdown",
   "metadata": {},
   "source": [
    "#### 如果有多个OUTPUT\n",
    "\n",
    "输入 $x_i$ 权重 $w_{ij}$ 假设函数 $h_j$ 预测结果 $\\hat y_j$\n",
    "\n",
    "\\begin{align}\n",
    "& \\delta_j = (y_j - \\hat y_j)f'(h_j) \\\\\n",
    "& \\Delta w_{ij} = \\mu\\delta_j x_i\n",
    "\\end{align}\n"
   ]
  }
 ],
 "metadata": {
  "kernelspec": {
   "display_name": "Python [default]",
   "language": "python",
   "name": "python2"
  },
  "language_info": {
   "codemirror_mode": {
    "name": "ipython",
    "version": 2
   },
   "file_extension": ".py",
   "mimetype": "text/x-python",
   "name": "python",
   "nbconvert_exporter": "python",
   "pygments_lexer": "ipython2",
   "version": "2.7.12"
  }
 },
 "nbformat": 4,
 "nbformat_minor": 1
}
